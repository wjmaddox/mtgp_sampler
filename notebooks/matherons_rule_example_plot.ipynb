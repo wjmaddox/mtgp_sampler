{
 "cells": [
  {
   "cell_type": "markdown",
   "metadata": {},
   "source": [
    "# Multitask GP Regression\n",
    "\n",
    "## Introduction\n",
    "\n",
    "Multitask regression, introduced in [this paper](https://papers.nips.cc/paper/3189-multi-task-gaussian-process-prediction.pdf) learns similarities in the outputs simultaneously. It's useful when you are performing regression on multiple functions that share the same inputs, especially if they have similarities (such as being sinusodial). \n",
    "\n",
    "Given inputs $x$ and $x'$, and tasks $i$ and $j$, the covariance between two datapoints and two tasks is given by\n",
    "\n",
    "$$  k([x, i], [x', j]) = k_\\text{inputs}(x, x') * k_\\text{tasks}(i, j)\n",
    "$$\n",
    "\n",
    "where $k_\\text{inputs}$ is a standard kernel (e.g. RBF) that operates on the inputs.\n",
    "$k_\\text{task}$ is a lookup table containing inter-task covariance."
   ]
  },
  {
   "cell_type": "code",
   "execution_count": null,
   "metadata": {},
   "outputs": [],
   "source": [
    "import math\n",
    "import torch\n",
    "import gpytorch\n",
    "from matplotlib import pyplot as plt\n",
    "\n",
    "import seaborn as sns\n",
    "sns.set_style(\"whitegrid\")\n",
    "sns.set_palette(\"bright\")\n",
    "torch.set_default_dtype(torch.double)\n",
    "\n",
    "%matplotlib inline\n",
    "%load_ext autoreload\n",
    "%autoreload 2"
   ]
  },
  {
   "cell_type": "code",
   "execution_count": null,
   "metadata": {},
   "outputs": [],
   "source": [
    "palette = sns.color_palette(\"bright\")"
   ]
  },
  {
   "cell_type": "code",
   "execution_count": null,
   "metadata": {},
   "outputs": [],
   "source": [
    "sns.palplot(palette)"
   ]
  },
  {
   "cell_type": "markdown",
   "metadata": {},
   "source": [
    "### Set up training data\n",
    "\n",
    "In the next cell, we set up the training data for this example. We'll be using 100 regularly spaced points on [0,1] which we evaluate the function on and add Gaussian noise to get the training labels.\n",
    "\n",
    "We'll have two functions - a sine function (y1) and a cosine function (y2).\n",
    "\n",
    "For MTGPs, our `train_targets` will actually have two dimensions: with the second dimension corresponding to the different tasks."
   ]
  },
  {
   "cell_type": "code",
   "execution_count": null,
   "metadata": {},
   "outputs": [],
   "source": [
    "train_x = torch.linspace(0, 1, 100).view(-1,1)\n",
    "\n",
    "train_y = torch.stack([\n",
    "    torch.sin(train_x * (2 * math.pi)) + torch.randn(train_x.size()) * 0.2,\n",
    "    torch.cos(train_x * (2 * math.pi)) + torch.randn(train_x.size()) * 0.2,\n",
    "    torch.cos(train_x * (5 * math.pi)) + torch.randn(train_x.size()) * 0.2,\n",
    "    torch.sin(train_x * (3 * math.pi)) + torch.randn(train_x.size()) * 0.2,\n",
    "], -1).squeeze(-2)"
   ]
  },
  {
   "cell_type": "code",
   "execution_count": null,
   "metadata": {},
   "outputs": [],
   "source": [
    "num_tasks = train_y.shape[-1]"
   ]
  },
  {
   "cell_type": "code",
   "execution_count": null,
   "metadata": {},
   "outputs": [],
   "source": [
    "train_y.shape"
   ]
  },
  {
   "cell_type": "markdown",
   "metadata": {},
   "source": [
    "## Define a multitask model\n",
    "\n",
    "The model should be somewhat similar to the `ExactGP` model in the [simple regression example](../01_Exact_GPs/Simple_GP_Regression.ipynb).\n",
    "The differences:\n",
    "\n",
    "1. We're going to wrap ConstantMean with a `MultitaskMean`. This makes sure we have a mean function for each task.\n",
    "2. Rather than just using a RBFKernel, we're using that in conjunction with a `MultitaskKernel`. This gives us the covariance function described in the introduction.\n",
    "3. We're using a `MultitaskMultivariateNormal` and `MultitaskGaussianLikelihood`. This allows us to deal with the predictions/outputs in a nice way. For example, when we call MultitaskMultivariateNormal.mean, we get a `n x num_tasks` matrix back.\n",
    "\n",
    "You may also notice that we don't use a ScaleKernel, since the IndexKernel will do some scaling for us. (This way we're not overparameterizing the kernel.)"
   ]
  },
  {
   "cell_type": "code",
   "execution_count": null,
   "metadata": {},
   "outputs": [],
   "source": [
    "from sampling_mtgps import MatheronMultiTaskGP\n",
    "model = MatheronMultiTaskGP(train_x, train_y)\n",
    "likelihood = model.likelihood"
   ]
  },
  {
   "cell_type": "markdown",
   "metadata": {},
   "source": [
    "### Train the model hyperparameters"
   ]
  },
  {
   "cell_type": "code",
   "execution_count": null,
   "metadata": {
    "scrolled": false
   },
   "outputs": [],
   "source": [
    "# this is for running the notebook in our testing framework\n",
    "import os\n",
    "smoke_test = ('CI' in os.environ)\n",
    "training_iterations = 2 if smoke_test else 50\n",
    "\n",
    "\n",
    "# Find optimal model hyperparameters\n",
    "model.train()\n",
    "likelihood.train()\n",
    "\n",
    "# Use the adam optimizer\n",
    "optimizer = torch.optim.Adam(model.parameters(), lr=1.0)  # Includes GaussianLikelihood parameters\n",
    "\n",
    "# \"Loss\" for GPs - the marginal log likelihood\n",
    "mll = gpytorch.mlls.ExactMarginalLogLikelihood(likelihood, model)\n",
    "\n",
    "for i in range(training_iterations):\n",
    "    optimizer.zero_grad()\n",
    "    output = model(train_x)\n",
    "    loss = -mll(output, train_y)\n",
    "    loss.backward()\n",
    "    print('Iter %d/%d - Loss: %.3f' % (i + 1, training_iterations, loss.item()))\n",
    "    optimizer.step()"
   ]
  },
  {
   "cell_type": "markdown",
   "metadata": {},
   "source": [
    "### Make predictions with the model"
   ]
  },
  {
   "cell_type": "code",
   "execution_count": null,
   "metadata": {
    "scrolled": true
   },
   "outputs": [],
   "source": [
    "# Set into eval mode\n",
    "model.eval()\n",
    "likelihood.eval()\n",
    "\n",
    "# Initialize plots\n",
    "f, ax = plt.subplots(2, 2, figsize=(16, 6))\n",
    "ax = ax.reshape(-1)\n",
    "# Make predictions\n",
    "with torch.no_grad(), gpytorch.settings.fast_pred_var():\n",
    "    test_x = torch.linspace(0, 1, 151)\n",
    "    predictions = model(test_x)\n",
    "    dist_samples = predictions.rsample(torch.Size((1024,)))\n",
    "    mean = predictions.mean\n",
    "    lower, upper = predictions.confidence_region()\n",
    "    \n",
    "# This contains predictions for both tasks, flattened out\n",
    "# The first half of the predictions is for the first task\n",
    "# The second half is for the second task\n",
    "\n",
    "\n",
    "for i in range(4):\n",
    "    y1_ax = ax[i]\n",
    "    # Plot training data as black stars\n",
    "    y1_ax.plot(train_x.detach().numpy(), train_y[:, i].detach().numpy(), 'k*')\n",
    "    # Predictive mean as blue line\n",
    "    y1_ax.plot(test_x.numpy(), mean[:, i].numpy(), 'b')\n",
    "    # Shade in confidence \n",
    "    y1_ax.fill_between(test_x.numpy(), lower[:, i].numpy(), upper[:, i].numpy(), alpha=0.5)\n",
    "    y1_ax.set_ylim([-3, 3])\n",
    "    y1_ax.legend(['Observed Data', 'Mean', 'Confidence'])\n",
    "    y1_ax.set_title('Observed Values (Likelihood)')"
   ]
  },
  {
   "cell_type": "markdown",
   "metadata": {},
   "source": [
    "## Decoupled Sampling"
   ]
  },
  {
   "cell_type": "code",
   "execution_count": null,
   "metadata": {},
   "outputs": [],
   "source": [
    "final_samples = model.posterior(test_x).rsample(torch.Size((1024,))).detach()"
   ]
  },
  {
   "cell_type": "code",
   "execution_count": null,
   "metadata": {},
   "outputs": [],
   "source": [
    "sampled_mean = final_samples.mean(dim=0)\n",
    "sampled_std = final_samples.std(dim=0)\n",
    "sampled_lower = sampled_mean - 2 * sampled_std\n",
    "sampled_upper = sampled_mean + 2 * sampled_std"
   ]
  },
  {
   "cell_type": "code",
   "execution_count": null,
   "metadata": {},
   "outputs": [],
   "source": [
    "sampled_lower.shape"
   ]
  },
  {
   "cell_type": "code",
   "execution_count": null,
   "metadata": {},
   "outputs": [],
   "source": [
    "# Initialize plots\n",
    "f, ax = plt.subplots(2, 2, figsize=(16, 6))\n",
    "ax = ax.reshape(-1)\n",
    "\n",
    "for i in range(4):\n",
    "    y1_ax = ax[i]\n",
    "    # Plot training data as black stars\n",
    "    y1_ax.plot(train_x.detach().numpy(), train_y[:, i].detach().numpy(), 'k*')\n",
    "    # Predictive mean as blue line\n",
    "    y1_ax.plot(test_x.numpy(), mean[:, i].numpy(), 'b')\n",
    "    # Shade in confidence \n",
    "    y1_ax.fill_between(test_x.numpy(), lower[:, i].numpy(), upper[:, i].numpy(), alpha=0.5)\n",
    "    \n",
    "    y1_ax.fill_between(test_x, sampled_lower[:,i], sampled_upper[:,i], color = \"red\", alpha = 0.4)\n",
    "    y1_ax.plot(test_x, sampled_mean[:,i], color = \"red\")\n",
    "    #for j in range(final_samples.shape[0]):\n",
    "    #    y1_ax.plot(test_x.numpy(), final_samples[j, :, i], color = \"red\", alpha = 0.1)\n",
    "    \n",
    "    #y1_ax.set_ylim([-3, 3])\n",
    "    y1_ax.legend(['Observed Data', 'Mean', 'Samples'])\n",
    "    y1_ax.set_title('Observed Values (Likelihood)')  "
   ]
  },
  {
   "cell_type": "code",
   "execution_count": null,
   "metadata": {},
   "outputs": [],
   "source": [
    "fig, ax = plt.subplots(1, 2, figsize = (12, 5))\n",
    "\n",
    "ax[0].scatter(sampled_std.reshape(-1), \n",
    "              predictions.variance.reshape(-1).detach()**0.5, label = \"Matheron's Rule\",\n",
    "             alpha = 0.8)\n",
    "ax[0].scatter(dist_samples.std(0).reshape(-1), predictions.variance.reshape(-1).detach()**0.5,\n",
    "             label = \"Distributional\", alpha = 0.8)\n",
    "ax[0].set_xlabel(\"Sampled Stddev\")\n",
    "ax[0].set_ylabel(\"True Stddev\")\n",
    "ax[0].legend(loc=\"upper left\")\n",
    "\n",
    "ax[1].scatter(sampled_mean.reshape(-1), predictions.mean.reshape(-1))\n",
    "ax[1].scatter(dist_samples.mean(0).reshape(-1), predictions.mean.reshape(-1))\n",
    "\n",
    "ax[1].set_xlabel(\"Sampled Mean\")\n",
    "ax[1].set_ylabel(\"True Mean\")\n",
    "\n",
    "ax[0].grid()\n",
    "ax[1].grid()"
   ]
  },
  {
   "cell_type": "code",
   "execution_count": null,
   "metadata": {},
   "outputs": [],
   "source": [
    "plt.scatter(sampled_mean.reshape(-1), predictions.mean.reshape(-1))\n",
    "plt.scatter(dist_samples.mean(0).reshape(-1), predictions.mean.reshape(-1))\n",
    "\n",
    "plt.xlabel(\"Sampled Stddev\")\n",
    "plt.ylabel(\"True Stddev\")"
   ]
  },
  {
   "cell_type": "code",
   "execution_count": null,
   "metadata": {},
   "outputs": [],
   "source": [
    "pred_std = predictions.variance.detach()**0.5\n",
    "fig, ax = plt.subplots(2, 2, figsize = (16, 6))\n",
    "\n",
    "ax = ax.reshape(-1)\n",
    "for i in range(4):\n",
    "    ax[i].plot(test_x, (sampled_std[:,i] - pred_std[:,i]))\n",
    "    ax[i].plot(test_x, (dist_samples.std(0)[:,i] - pred_std[:,i]))"
   ]
  },
  {
   "cell_type": "code",
   "execution_count": null,
   "metadata": {},
   "outputs": [],
   "source": [
    "from mpl_toolkits.axes_grid1 import make_axes_locatable"
   ]
  },
  {
   "cell_type": "code",
   "execution_count": null,
   "metadata": {},
   "outputs": [],
   "source": [
    "fig, ax = plt.subplots(1, 4, figsize = (24, 5))\n",
    "\n",
    "ax = ax.reshape(-1)\n",
    "for i in range(4):\n",
    "    y1_ax = ax[i]\n",
    "    # Plot training data as black stars\n",
    "    y1_ax.plot(train_x.detach().numpy(), train_y[:, i].detach().numpy(), 'k*')\n",
    "    # Predictive mean as blue line\n",
    "    # Shade in confidence \n",
    "    \n",
    "    y1_ax.fill_between(test_x, sampled_lower[:,i], sampled_upper[:,i], alpha = 0.4,\n",
    "                      color = palette[2])\n",
    "    y1_ax.plot(test_x, sampled_mean[:,i], color = palette[2])\n",
    "    y1_ax.fill_between(test_x.numpy(), lower[:, i].numpy(), upper[:, i].numpy(), alpha=0.5, color = palette[4])\n",
    "\n",
    "    y1_ax.plot(test_x.numpy(), mean[:, i].numpy(), color = palette[4], linewidth=3)\n",
    "\n",
    "    #for j in range(final_samples.shape[0]):\n",
    "    #    y1_ax.plot(test_x.numpy(), final_samples[j, :, i], color = \"red\", alpha = 0.1)\n",
    "    \n",
    "    #y1_ax.set_ylim([-3, 3])\n",
    "\n",
    "        \n",
    "    divider = make_axes_locatable(y1_ax)\n",
    "    axHistx = divider.append_axes(\"bottom\", size=1.2, pad=0.1, sharex=y1_ax)\n",
    "    axHistx.plot(test_x, (sampled_std[:,i] - pred_std[:,i])/ pred_std[:,i], label = \"Matheron\")\n",
    "    axHistx.plot(test_x, (dist_samples.std(0)[:,i] - pred_std[:,i]) / pred_std[:,i], label = \"Distributional\")\n",
    "    axHistx.plot(test_x, torch.zeros_like(test_x), color = \"black\")\n",
    "    if i == 0:\n",
    "        y1_ax.legend(['Observed Data', 'True Conf. Region', 'Sampled Conf. Region'], \n",
    "                     fontsize = 18, loc = \"upper center\", \n",
    "                    bbox_to_anchor=(2.25, -0.72), ncol=3)\n",
    "        axHistx.legend(fontsize=18, loc=\"upper center\", ncol=2, bbox_to_anchor=(2.25, -0.8))\n",
    "        axHistx.set_ylabel(r\"$\\frac{\\hat \\sigma - \\sigma}{\\sigma}$\", fontsize = 18)\n",
    "    \n",
    "        y1_ax.set_ylabel(\"f(x)\", fontsize = 24)\n",
    "    axHistx.set_xlabel(\"x\", fontsize = 24)\n",
    "# plt.tight_layout()\n",
    "plt.savefig(\"./gp_sampling_accuracy.pdf\", bbox_inches=\"tight\")"
   ]
  },
  {
   "cell_type": "code",
   "execution_count": null,
   "metadata": {},
   "outputs": [],
   "source": []
  }
 ],
 "metadata": {
  "anaconda-cloud": {},
  "kernelspec": {
   "display_name": "Python 3",
   "language": "python",
   "name": "python3"
  },
  "language_info": {
   "codemirror_mode": {
    "name": "ipython",
    "version": 3
   },
   "file_extension": ".py",
   "mimetype": "text/x-python",
   "name": "python",
   "nbconvert_exporter": "python",
   "pygments_lexer": "ipython3",
   "version": "3.7.9"
  }
 },
 "nbformat": 4,
 "nbformat_minor": 1
}
