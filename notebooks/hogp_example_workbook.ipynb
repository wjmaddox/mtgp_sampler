{
 "cells": [
  {
   "cell_type": "code",
   "execution_count": null,
   "metadata": {},
   "outputs": [],
   "source": [
    "import matplotlib.pyplot as plt\n",
    "import torch\n",
    "import seaborn as sns\n",
    "# sns.set_style(\"whitegrid\")\n",
    "sns.set_palette(\"bright\")\n",
    "from botorch.models import HigherOrderGP\n",
    "from gpytorch.mlls import ExactMarginalLogLikelihood\n",
    "from botorch.optim.fit import fit_gpytorch_torch\n",
    "\n",
    "from mpl_toolkits.axes_grid1 import make_axes_locatable"
   ]
  },
  {
   "cell_type": "markdown",
   "metadata": {},
   "source": [
    "## Example Test Problem"
   ]
  },
  {
   "cell_type": "code",
   "execution_count": null,
   "metadata": {},
   "outputs": [],
   "source": [
    "def generate_sample(pars, noise_sd=0.01, size=32):\n",
    "    x, y = torch.meshgrid(torch.arange(1, size+1), torch.arange(0, size+1))\n",
    "    noiseless_out = torch.sin(2. * pars[0] * x) * torch.cos(0.4 * pars[1] * y)\n",
    "    return noiseless_out + noise_sd * torch.randn_like(noiseless_out)\n",
    "\n",
    "def generate_data(x, noise_sd=0.01):\n",
    "    return torch.stack([generate_sample(pars, noise_sd=noise_sd) for pars in x])"
   ]
  },
  {
   "cell_type": "code",
   "execution_count": null,
   "metadata": {},
   "outputs": [],
   "source": [
    "torch.random.manual_seed(210)\n",
    "\n",
    "_, ax = plt.subplots(1,1,figsize=(5, 5), facecolor=\"w\")\n",
    "f = plt.imshow(generate_sample(torch.randn(2)))\n",
    "\n",
    "divider = make_axes_locatable(ax)\n",
    "cax = divider.append_axes(\"right\", size=\"5%\", pad=0.05)\n",
    "\n",
    "plt.colorbar(f, cax=cax).set_label(size=20, label=r\"$f(x,y)$\", )\n",
    "plt.savefig(\"./hogp_example_function.pdf\", bbox_inches=\"tight\")"
   ]
  },
  {
   "cell_type": "code",
   "execution_count": null,
   "metadata": {},
   "outputs": [],
   "source": [
    "train_x = torch.randn(50, 2)\n",
    "train_y = generate_data(train_x)"
   ]
  },
  {
   "cell_type": "code",
   "execution_count": null,
   "metadata": {},
   "outputs": [],
   "source": [
    "_, ax = plt.subplots(1,1,figsize=(5, 5), facecolor=\"w\")\n",
    "\n",
    "f = plt.imshow(train_y.var(dim=0))\n",
    "divider = make_axes_locatable(ax)\n",
    "cax = divider.append_axes(\"right\", size=\"5%\", pad=0.05)\n",
    "\n",
    "plt.colorbar(f, cax=cax).set_label(size=20, label=r\"$\\mathbb{V}(f(x,y))$\", )\n",
    "plt.savefig(\"./hogp_example_function.pdf\", bbox_inches=\"tight\")"
   ]
  },
  {
   "cell_type": "code",
   "execution_count": null,
   "metadata": {},
   "outputs": [],
   "source": [
    "model = HigherOrderGP(train_x, train_y, latent_init=\"default\")\n",
    "mll = ExactMarginalLogLikelihood(model.likelihood, model)"
   ]
  },
  {
   "cell_type": "code",
   "execution_count": null,
   "metadata": {},
   "outputs": [],
   "source": [
    "fit_gpytorch_torch(mll);"
   ]
  },
  {
   "cell_type": "code",
   "execution_count": null,
   "metadata": {},
   "outputs": [],
   "source": [
    "test_x = torch.randn(1, 2)\n",
    "test_y = generate_data(test_x, noise_sd=0.)"
   ]
  },
  {
   "cell_type": "code",
   "execution_count": null,
   "metadata": {},
   "outputs": [],
   "source": [
    "nonsmooth_post = model.posterior(test_x)"
   ]
  },
  {
   "cell_type": "code",
   "execution_count": null,
   "metadata": {},
   "outputs": [],
   "source": [
    "_, ax = plt.subplots(1,1,figsize=(5, 5), facecolor=\"w\")\n",
    "f = plt.imshow(nonsmooth_post.variance[0].detach())\n",
    "\n",
    "divider = make_axes_locatable(ax)\n",
    "cax = divider.append_axes(\"right\", size=\"5%\", pad=0.05)\n",
    "\n",
    "plt.colorbar(f, cax=cax)\n",
    "# plt.savefig(\"./hogp_zhe_variance.pdf\", bbox_inches=\"tight\")"
   ]
  },
  {
   "cell_type": "code",
   "execution_count": null,
   "metadata": {},
   "outputs": [],
   "source": [
    "plt.plot(model.latent_parameters[0].detach())"
   ]
  },
  {
   "cell_type": "code",
   "execution_count": null,
   "metadata": {},
   "outputs": [],
   "source": [
    "plt.plot(model.latent_parameters[1].detach())"
   ]
  },
  {
   "cell_type": "code",
   "execution_count": null,
   "metadata": {},
   "outputs": [],
   "source": [
    "model.eval()\n",
    "true_post = model(test_x)"
   ]
  },
  {
   "cell_type": "code",
   "execution_count": null,
   "metadata": {},
   "outputs": [],
   "source": [
    "_, ax = plt.subplots(1,1,figsize=(5, 5), facecolor=\"w\")\n",
    "f = plt.imshow(true_post.covariance_matrix.detach())\n",
    "\n",
    "divider = make_axes_locatable(ax)\n",
    "cax = divider.append_axes(\"right\", size=\"5%\", pad=0.05)\n",
    "\n",
    "plt.colorbar(f, cax=cax)\n",
    "# plt.savefig(\"./hogp_zhe_covariance.pdf\", bbox_inches=\"tight\")"
   ]
  },
  {
   "cell_type": "code",
   "execution_count": null,
   "metadata": {},
   "outputs": [],
   "source": [
    "smooth_model = HigherOrderGP(train_x, train_y, latent_init=\"gp\")\n",
    "mll = ExactMarginalLogLikelihood(smooth_model.likelihood, smooth_model)"
   ]
  },
  {
   "cell_type": "code",
   "execution_count": null,
   "metadata": {},
   "outputs": [],
   "source": [
    "# fit_gpytorch_torch(mll);"
   ]
  },
  {
   "cell_type": "code",
   "execution_count": null,
   "metadata": {},
   "outputs": [],
   "source": [
    "smooth_post = smooth_model.posterior(test_x)"
   ]
  },
  {
   "cell_type": "code",
   "execution_count": null,
   "metadata": {},
   "outputs": [],
   "source": [
    "_, ax = plt.subplots(1,1,figsize=(5, 5), facecolor=\"w\")\n",
    "f = plt.imshow(smooth_post.variance[0].detach())\n",
    "\n",
    "divider = make_axes_locatable(ax)\n",
    "cax = divider.append_axes(\"right\", size=\"5%\", pad=0.05)\n",
    "\n",
    "plt.colorbar(f, cax=cax)\n",
    "# plt.savefig(\"./hogp_smooth_variance.pdf\", bbox_inches=\"tight\")"
   ]
  },
  {
   "cell_type": "code",
   "execution_count": null,
   "metadata": {},
   "outputs": [],
   "source": [
    "plt.plot(smooth_model.latent_parameters[0].detach())"
   ]
  },
  {
   "cell_type": "code",
   "execution_count": null,
   "metadata": {},
   "outputs": [],
   "source": [
    "plt.plot(smooth_model.latent_parameters[1].detach())"
   ]
  },
  {
   "cell_type": "code",
   "execution_count": null,
   "metadata": {},
   "outputs": [],
   "source": [
    "smooth_model.eval()\n",
    "true_post = smooth_model(test_x)"
   ]
  },
  {
   "cell_type": "code",
   "execution_count": null,
   "metadata": {},
   "outputs": [],
   "source": [
    "_, ax = plt.subplots(1,1,figsize=(5, 5), facecolor=\"w\")\n",
    "f = plt.imshow(true_post.covariance_matrix.detach())\n",
    "\n",
    "divider = make_axes_locatable(ax)\n",
    "cax = divider.append_axes(\"right\", size=\"5%\", pad=0.05)\n",
    "\n",
    "plt.colorbar(f, cax=cax)\n",
    "plt.savefig(\"./hogp_smooth_covariance.pdf\", bbox_inches=\"tight\")"
   ]
  },
  {
   "cell_type": "code",
   "execution_count": null,
   "metadata": {},
   "outputs": [],
   "source": [
    "true_post.covariance_matrix.shape"
   ]
  },
  {
   "cell_type": "code",
   "execution_count": null,
   "metadata": {},
   "outputs": [],
   "source": [
    "f = plt.imshow(true_post.covariance_matrix.detach()[:256, :256])\n",
    "plt.colorbar(f)"
   ]
  },
  {
   "cell_type": "code",
   "execution_count": null,
   "metadata": {},
   "outputs": [],
   "source": [
    "f = plt.imshow(cov(train_y.reshape(50, -1).numpy().T))\n",
    "plt.colorbar(f)"
   ]
  },
  {
   "cell_type": "code",
   "execution_count": null,
   "metadata": {},
   "outputs": [],
   "source": [
    "from numpy import cov"
   ]
  },
  {
   "cell_type": "code",
   "execution_count": null,
   "metadata": {},
   "outputs": [],
   "source": [
    "sns.set_style(\"whitegrid\")"
   ]
  },
  {
   "cell_type": "code",
   "execution_count": null,
   "metadata": {},
   "outputs": [],
   "source": [
    "fig, ax = plt.subplots(1, 1, figsize = (5, 5))\n",
    "\n",
    "plt.plot(smooth_model.latent_parameters[0].detach(), color = \"blue\", label = \"GP Latent 0\")\n",
    "plt.plot(smooth_model.latent_parameters[1].detach(), color = \"blue\", linestyle=\"--\", label = \"GP Latent 1\")\n",
    "\n",
    "plt.plot(model.latent_parameters[0].detach(), color = \"orange\", label = \"Latent 0\")\n",
    "plt.plot(model.latent_parameters[1].detach(), color = \"orange\", linestyle=\"--\", label = \"Latent 1\")\n",
    "plt.legend(fontsize=16, ncol=2, loc=\"lower center\")\n",
    "plt.xlabel(\"x\", fontsize = 20)\n",
    "plt.ylabel(\"Latent\", fontsize=20)\n",
    "plt.ylim((-1.5, 1))\n",
    "plt.savefig(\"./hogp_latents.pdf\", bbox_inches=\"tight\")"
   ]
  },
  {
   "cell_type": "code",
   "execution_count": null,
   "metadata": {},
   "outputs": [],
   "source": []
  }
 ],
 "metadata": {
  "kernelspec": {
   "display_name": "Python 3.7.4 64-bit ('base': conda)",
   "language": "python",
   "name": "python37464bitbaseconda52eab690427c4f7ea56588deee120c46"
  },
  "language_info": {
   "codemirror_mode": {
    "name": "ipython",
    "version": 3
   },
   "file_extension": ".py",
   "mimetype": "text/x-python",
   "name": "python",
   "nbconvert_exporter": "python",
   "pygments_lexer": "ipython3",
   "version": "3.7.9"
  }
 },
 "nbformat": 4,
 "nbformat_minor": 4
}
