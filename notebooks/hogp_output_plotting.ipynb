{
 "cells": [
  {
   "cell_type": "code",
   "execution_count": null,
   "metadata": {},
   "outputs": [],
   "source": [
    "import matplotlib.pyplot as plt\n",
    "import seaborn as sns\n",
    "import torch\n",
    "from mpl_toolkits.axes_grid1 import make_axes_locatable"
   ]
  },
  {
   "cell_type": "markdown",
   "metadata": {},
   "source": [
    "## PDE Plot"
   ]
  },
  {
   "cell_type": "code",
   "execution_count": null,
   "metadata": {},
   "outputs": [],
   "source": [
    "last_output = torch.load(\n",
    "    \"../data/hogp/pde/cpde64_seed_22.pt\",\n",
    "    map_location=torch.device('cpu')\n",
    ")[0]"
   ]
  },
  {
   "cell_type": "code",
   "execution_count": null,
   "metadata": {},
   "outputs": [],
   "source": [
    "best_ei = torch.tensor(last_output[0][\"ei\"]).argmax()\n",
    "best_eihogp = torch.tensor(last_output[0][\"ei_hogp_cf_smooth\"]).argmax()"
   ]
  },
  {
   "cell_type": "code",
   "execution_count": null,
   "metadata": {},
   "outputs": [],
   "source": [
    "-torch.tensor(last_output[0][\"ei\"]).cummax(0)[0]"
   ]
  },
  {
   "cell_type": "code",
   "execution_count": null,
   "metadata": {},
   "outputs": [],
   "source": [
    "torch.tensor(last_output[0][\"ei_hogp_cf_smooth\"]).cummax(0)[0]"
   ]
  },
  {
   "cell_type": "code",
   "execution_count": null,
   "metadata": {},
   "outputs": [],
   "source": [
    "torch.tensor(last_output[0][\"ei\"]).max()"
   ]
  },
  {
   "cell_type": "code",
   "execution_count": null,
   "metadata": {},
   "outputs": [],
   "source": [
    "torch.tensor(last_output[0][\"ei_hogp_cf_smooth\"]).max()"
   ]
  },
  {
   "cell_type": "code",
   "execution_count": null,
   "metadata": {},
   "outputs": [],
   "source": [
    "best_ei_par = last_output[1][\"ei\"][best_ei.item()]"
   ]
  },
  {
   "cell_type": "code",
   "execution_count": null,
   "metadata": {},
   "outputs": [],
   "source": [
    "best_eihogp_par = last_output[1][\"ei_hogp_cf_smooth\"][best_eihogp.item()]"
   ]
  },
  {
   "cell_type": "code",
   "execution_count": null,
   "metadata": {},
   "outputs": [],
   "source": [
    "       def cfun(tensor, k=None):\n",
    "            from pde import PDE, FieldCollection, ScalarField, UnitGrid\n",
    "\n",
    "            a = tensor[0].item()\n",
    "            b = tensor[1].item()\n",
    "            d0 = tensor[2].item()\n",
    "            d1 = tensor[3].item()\n",
    "\n",
    "            eq = PDE(\n",
    "                 {\n",
    "                    \"u\": f\"{d0} * laplace(u) + {a} - ({b} + 1) * u + u**2 * v\",\n",
    "                    \"v\": f\"{d1} * laplace(v) + {b} * u - u**2 * v\",\n",
    "                 }\n",
    "            )\n",
    "\n",
    "            # initialize state\n",
    "            grid = UnitGrid([64, 64])\n",
    "            u = ScalarField(grid, a, label=\"Field $u$\")\n",
    "            v = b / a + 0.1 * ScalarField.random_normal(grid, label=\"Field $v$\", seed=10)\n",
    "            state = FieldCollection([u, v])\n",
    "\n",
    "            sol = eq.solve(state, t_range=20, dt=1e-3)\n",
    "            sol_tensor = torch.stack(\n",
    "               (torch.from_numpy(sol[0].data), torch.from_numpy(sol[1].data))\n",
    "            )\n",
    "            sol_tensor[~torch.isfinite(sol_tensor)] = 1e5 * torch.randn_like(sol_tensor[~torch.isfinite(sol_tensor)])\n",
    "            return sol_tensor\n"
   ]
  },
  {
   "cell_type": "code",
   "execution_count": null,
   "metadata": {},
   "outputs": [],
   "source": [
    "best_ei_obj = cfun(best_ei_par)\n",
    "best_eihogp_obj = cfun(best_eihogp_par)"
   ]
  },
  {
   "cell_type": "code",
   "execution_count": null,
   "metadata": {},
   "outputs": [],
   "source": [
    "def make_pde_plot(arr, loc, use_bounds=False):\n",
    "    fig, ax = plt.subplots(1, 2, figsize=(10,5))\n",
    "    # f = ax[0].imshow((arr[0] - arr[0].mean()) / arr[0].std())\n",
    "    vmin = None\n",
    "    vmax = None\n",
    "    if use_bounds:\n",
    "        vmin = arr[0].mean() - 2e-12#3. * arr[0].std()\n",
    "        vmax = arr[0].mean() + 2e-12#3. * arr[0].std()\n",
    "    f = ax[0].imshow(arr[0] - arr[0].mean(), vmin=vmin, vmax=vmax)\n",
    "\n",
    "    divider = make_axes_locatable(ax[0])\n",
    "    cax = divider.append_axes(\"right\", size=\"5%\", pad=0.05)\n",
    "\n",
    "    plt.colorbar(f,cax=cax, ax = ax[0])\n",
    "\n",
    "    vmin = None\n",
    "    vmax = None\n",
    "    if use_bounds:\n",
    "        vmin = arr[1].mean() - 2e-13 #3. * arr[1].std()\n",
    "        vmax = arr[1].mean() + 2e-13#3. * arr[1].std()\n",
    "    # f = ax[1].imshow((arr[1] - arr[1].mean()) / arr[1].std())\n",
    "    f = ax[1].imshow(arr[1] - arr[1].mean(), vmin=vmin, vmax=vmax)\n",
    "\n",
    "    divider = make_axes_locatable(ax[1])\n",
    "    cax = divider.append_axes(\"right\", size=\"5%\", pad=0.05)\n",
    "\n",
    "    plt.colorbar(f,cax=cax, ax = ax[1])\n",
    "\n",
    "    ax[0].set_title(\"Field u\", fontsize = 20)\n",
    "    ax[1].set_title(\"Field v\", fontsize = 20)\n",
    "    \n",
    "    plt.savefig(loc, bbox_inches=\"tight\")"
   ]
  },
  {
   "cell_type": "code",
   "execution_count": null,
   "metadata": {},
   "outputs": [],
   "source": [
    "make_pde_plot(best_ei_obj, \"./hogp_pde_ei.pdf\", use_bounds=False)"
   ]
  },
  {
   "cell_type": "code",
   "execution_count": null,
   "metadata": {},
   "outputs": [],
   "source": [
    "make_pde_plot(best_eihogp_obj, \"./hogp_pde_eihogp.pdf\", use_bounds=False)"
   ]
  },
  {
   "cell_type": "code",
   "execution_count": null,
   "metadata": {},
   "outputs": [],
   "source": [
    "rand_sol = cfun(torch.tensor([1., 3., 1., 0.1]))"
   ]
  },
  {
   "cell_type": "code",
   "execution_count": null,
   "metadata": {},
   "outputs": [],
   "source": [
    "make_pde_plot(rand_sol, \"./hogp_pde_random.pdf\")"
   ]
  },
  {
   "cell_type": "code",
   "execution_count": null,
   "metadata": {},
   "outputs": [],
   "source": [
    "best_eihogp_obj[0].mean()"
   ]
  },
  {
   "cell_type": "markdown",
   "metadata": {},
   "source": [
    "## HOGP Plot"
   ]
  },
  {
   "cell_type": "code",
   "execution_count": null,
   "metadata": {},
   "outputs": [],
   "source": [
    "last_output = torch.load(\n",
    "    \"../data/hogp/rfc/rf_longest//rfc_seed_1.pt\",\n",
    "    map_location=torch.device('cpu')\n",
    ")[0]"
   ]
  },
  {
   "cell_type": "code",
   "execution_count": null,
   "metadata": {},
   "outputs": [],
   "source": [
    "torch.tensor(last_output[0][\"ei\"]).max()"
   ]
  },
  {
   "cell_type": "code",
   "execution_count": null,
   "metadata": {},
   "outputs": [],
   "source": [
    "best_ei = torch.tensor(last_output[0][\"ei\"]).argmax()\n",
    "best_eihogp = torch.tensor(last_output[0][\"ei_hogp_cf\"]).argmax()"
   ]
  },
  {
   "cell_type": "code",
   "execution_count": null,
   "metadata": {},
   "outputs": [],
   "source": [
    "best_ei_par = last_output[1][\"ei\"][best_ei.item()]"
   ]
  },
  {
   "cell_type": "code",
   "execution_count": null,
   "metadata": {},
   "outputs": [],
   "source": [
    "best_eihogp_par = last_output[1][\"ei_hogp_cf\"][best_eihogp.item()]"
   ]
  },
  {
   "cell_type": "code",
   "execution_count": null,
   "metadata": {},
   "outputs": [],
   "source": [
    "import sys\n",
    "sys.path.append(\"../../fbc-maveric-research/\")\n",
    "from fbc.maveric.simulation_data.simulated_rsrp import SimulatedRSRP\n",
    "\n",
    "min_Tx_power_dBm, max_Tx_power_dBm = 30, 50\n",
    "\n",
    "# loads the 11 powermap files that are typically mounted in\n",
    "# \"/mnt/shared/yuchenq/power_maps/*.npz\"\n",
    "# and does the same type of powermap construction as in\n",
    "# fbc.maveric.simulation_data.simulated_rsrp.construct_from_npz_files\n",
    "\n",
    "import glob\n",
    "import json\n",
    "powermaps = glob.glob(\"../data/powermatrixDT*.json\")\n",
    "all_pmap_dicts = []\n",
    "for pmap_loc in powermaps:\n",
    "    with open(pmap_loc, \"r\") as f:\n",
    "        all_pmap_dicts.append(json.load(f))\n",
    "\n",
    "downtilts_maps = {}\n",
    "for i in range(11):\n",
    "    downtilts_maps[float(i)] = SimulatedRSRP.build_single_powermap(\n",
    "        all_pmap_dicts[i]\n",
    "    )\n",
    "\n",
    "simulated_rsrp = SimulatedRSRP(\n",
    "    downtilts_maps=downtilts_maps,\n",
    "    min_TX_power_dBm=min_Tx_power_dBm,\n",
    "    max_TX_power_dBm=max_Tx_power_dBm,\n",
    ")\n",
    "\n",
    "def simulate(theta):\n",
    "    theta = theta.cpu().detach().numpy()\n",
    "    downtilts = theta[:15].astype(int)\n",
    "    tx_pwrs = theta[15:]\n",
    "    (\n",
    "        rsrp_powermap,\n",
    "        interference_powermap,\n",
    "        _,\n",
    "    ) = simulated_rsrp.get_RSRP_and_interference_powermap((downtilts, tx_pwrs))\n",
    "    # return torch.stack(\n",
    "    #     (torch.tensor(rsrp_powermap), torch.tensor(interference_powermap))\n",
    "    # )\n",
    "    highd_res = torch.stack(\n",
    "        (torch.tensor(rsrp_powermap), torch.tensor(interference_powermap))\n",
    "    )\n",
    "    return highd_res"
   ]
  },
  {
   "cell_type": "code",
   "execution_count": null,
   "metadata": {},
   "outputs": [],
   "source": [
    "best_ei_img = simulate(best_ei_par)\n"
   ]
  },
  {
   "cell_type": "code",
   "execution_count": null,
   "metadata": {},
   "outputs": [],
   "source": [
    "best_eihogp_img = simulate(best_eihogp_par)"
   ]
  },
  {
   "cell_type": "code",
   "execution_count": null,
   "metadata": {},
   "outputs": [],
   "source": [
    "def make_rf_plot(arr, loc, titles=[\"Power\", \"Interference\"]):\n",
    "    fig, ax = plt.subplots(1, 2, figsize=(10,5))\n",
    "    vmin = None\n",
    "    vmax = None\n",
    "    # f = ax[0].imshow((arr[0] - arr[0].mean()) / arr[0].std())\n",
    "    f = ax[0].imshow(arr[0], vmin=vmin, vmax=vmax)\n",
    "\n",
    "    divider = make_axes_locatable(ax[0])\n",
    "    cax = divider.append_axes(\"right\", size=\"5%\", pad=0.05)\n",
    "\n",
    "    plt.colorbar(f,cax=cax, ax = ax[0])\n",
    "\n",
    "    vmin = None\n",
    "    vmax = None\n",
    "\n",
    "    f = ax[1].imshow(arr[1], vmin=vmin, vmax=vmax)\n",
    "\n",
    "    divider = make_axes_locatable(ax[1])\n",
    "    cax = divider.append_axes(\"right\", size=\"5%\", pad=0.05)\n",
    "\n",
    "    plt.colorbar(f,cax=cax, ax = ax[1])\n",
    "\n",
    "    ax[0].set_title(titles[0], fontsize = 20)\n",
    "    ax[1].set_title(titles[1], fontsize = 20)\n",
    "    \n",
    "    plt.savefig(loc, bbox_inches=\"tight\")"
   ]
  },
  {
   "cell_type": "code",
   "execution_count": null,
   "metadata": {},
   "outputs": [],
   "source": [
    "make_rf_plot(best_ei_img, \"./hogp_rf_ei.pdf\")"
   ]
  },
  {
   "cell_type": "code",
   "execution_count": null,
   "metadata": {},
   "outputs": [],
   "source": [
    "make_rf_plot(best_eihogp_img, \"./hogp_rf_eihogp.pdf\")"
   ]
  },
  {
   "cell_type": "code",
   "execution_count": null,
   "metadata": {},
   "outputs": [],
   "source": [
    "        import numpy as np\n",
    "    \n",
    "        def construct_both_objectives(samples):\n",
    "            rsrp_map = samples[..., 0, :, :]\n",
    "            interference_map = samples[..., 1, :, :]\n",
    "\n",
    "            weak_coverage_threshold = -80.0\n",
    "            over_coverage_threshold = 6.0\n",
    "            f_weak_coverage = torch.sigmoid(weak_coverage_threshold - rsrp_map)#.sum(\n",
    "            #    dim=(-1, -2)\n",
    "            #)\n",
    "            size = np.prod(rsrp_map.shape[-2:])\n",
    "\n",
    "            # over_coverage_area = (rsrp_map >= weak_coverage_threshold) & (\n",
    "            #    interference_map + over_coverage_threshold > rsrp_map\n",
    "            # )\n",
    "            rsrp_gt_threshold = torch.sigmoid(rsrp_map - weak_coverage_threshold)\n",
    "            if_gt_threshold = torch.sigmoid(\n",
    "                (interference_map + over_coverage_threshold) - rsrp_map\n",
    "            )\n",
    "            over_coverage_area = rsrp_gt_threshold * if_gt_threshold\n",
    "\n",
    "            over_coverage_map = (\n",
    "                interference_map * over_coverage_area\n",
    "                + over_coverage_threshold\n",
    "                - rsrp_map * over_coverage_area\n",
    "            )\n",
    "            # over_coverage_map = (\n",
    "            #     interference_map[over_coverage_area]\n",
    "            #     + over_coverage_threshold\n",
    "            #     - rsrp_map[over_coverage_area]\n",
    "            # )\n",
    "            g_weak_coverage = torch.sigmoid(over_coverage_map)#.sum(dim=(-1, -2))\n",
    "            return f_weak_coverage.log(), g_weak_coverage.log()"
   ]
  },
  {
   "cell_type": "code",
   "execution_count": null,
   "metadata": {},
   "outputs": [],
   "source": [
    "make_rf_plot(construct_both_objectives(best_ei_img), \n",
    "             \"./hogp_rf_ei_coverage.pdf\", \n",
    "             titles=[\"Log Over Coverage\", \"Log Under Coverage\"]\n",
    ")"
   ]
  },
  {
   "cell_type": "code",
   "execution_count": null,
   "metadata": {},
   "outputs": [],
   "source": [
    "make_rf_plot(construct_both_objectives(best_eihogp_img), \n",
    "             \"./hogp_rf_eihogp_coverage.pdf\",\n",
    "                         titles=[\"Log Over Coverage\", \"Log Under Coverage\"]\n",
    ")"
   ]
  },
  {
   "cell_type": "markdown",
   "metadata": {},
   "source": [
    "## Optics Plot"
   ]
  },
  {
   "cell_type": "code",
   "execution_count": null,
   "metadata": {},
   "outputs": [],
   "source": [
    "last_output = torch.load(\n",
    "    \"../data/hogp/optics/boptics_seed_20.pt\",\n",
    "    map_location=torch.device('cpu')\n",
    ")[0]"
   ]
  },
  {
   "cell_type": "code",
   "execution_count": null,
   "metadata": {},
   "outputs": [],
   "source": [
    "best_ei = torch.tensor(last_output[0][\"ei\"]).argmax()\n",
    "best_eihogp = torch.tensor(last_output[0][\"ei_hogp_cf\"]).argmax()"
   ]
  },
  {
   "cell_type": "code",
   "execution_count": null,
   "metadata": {},
   "outputs": [],
   "source": [
    "best_ei"
   ]
  },
  {
   "cell_type": "code",
   "execution_count": null,
   "metadata": {},
   "outputs": [],
   "source": [
    "torch.tensor(last_output[0][\"ei\"]).max().exp()"
   ]
  },
  {
   "cell_type": "code",
   "execution_count": null,
   "metadata": {},
   "outputs": [],
   "source": [
    "torch.tensor(last_output[0][\"ei_hogp_cf\"]).max().exp()"
   ]
  },
  {
   "cell_type": "code",
   "execution_count": null,
   "metadata": {},
   "outputs": [],
   "source": [
    "best_ei_par = last_output[1][\"ei\"][best_ei.item()]"
   ]
  },
  {
   "cell_type": "code",
   "execution_count": null,
   "metadata": {},
   "outputs": [],
   "source": [
    "best_eihogp_par = last_output[1][\"ei_hogp_cf_smooth\"][best_eihogp.item()]"
   ]
  },
  {
   "cell_type": "code",
   "execution_count": null,
   "metadata": {},
   "outputs": [],
   "source": [
    "torch.tensor(last_output[0][\"rnd\"]).min().exp()"
   ]
  },
  {
   "cell_type": "code",
   "execution_count": null,
   "metadata": {},
   "outputs": [],
   "source": [
    "from gym_interf import InterfEnv\n",
    "\n",
    "def cfun(x):\n",
    "    #if k not in gym_dict.keys():\n",
    "    gym_dict = InterfEnv()\n",
    "    # gym_dict[k].reset(actions=x[4:].cpu().detach().numpy())\n",
    "    gym_dict.reset(actions=(1e-4, 1e-4, 1e-4, 1e-4))\n",
    "\n",
    "    action = x[:4].cpu().detach().numpy()\n",
    "    state = gym_dict.step(action)\n",
    "    return torch.tensor(state[0]).double()"
   ]
  },
  {
   "cell_type": "code",
   "execution_count": null,
   "metadata": {},
   "outputs": [],
   "source": [
    "worst_rand = torch.tensor(last_output[0][\"rnd\"]).argmin()"
   ]
  },
  {
   "cell_type": "code",
   "execution_count": null,
   "metadata": {},
   "outputs": [],
   "source": [
    "worst_par = last_output[1][\"rnd\"][worst_rand.item()]"
   ]
  },
  {
   "cell_type": "code",
   "execution_count": null,
   "metadata": {},
   "outputs": [],
   "source": [
    "worst_obj = cfun(worst_par)"
   ]
  },
  {
   "cell_type": "code",
   "execution_count": null,
   "metadata": {},
   "outputs": [],
   "source": [
    "best_ei_obj = cfun(best_ei_par)\n",
    "best_eihogp_obj = cfun(best_eihogp_par)"
   ]
  },
  {
   "cell_type": "code",
   "execution_count": null,
   "metadata": {},
   "outputs": [],
   "source": [
    "fig, ax = plt.subplots(2, 8, figsize = (24, 6))\n",
    "ax = ax.reshape(-1)\n",
    "for i in range(16):\n",
    "    f = ax[i].imshow(best_ei_obj[i])\n",
    "    divider = make_axes_locatable(ax[i])\n",
    "    cax = divider.append_axes(\"right\", size=\"5%\", pad=0.05)\n",
    "\n",
    "    plt.colorbar(f,cax=cax, ax = ax[i])\n",
    "    \n",
    "plt.subplots_adjust(wspace=0.35)\n",
    "plt.savefig(\"./hogp_optics_ei_best.pdf\", bbox_inches=\"tight\")"
   ]
  },
  {
   "cell_type": "code",
   "execution_count": null,
   "metadata": {},
   "outputs": [],
   "source": [
    "fig, ax = plt.subplots(2, 8, figsize = (24, 6))\n",
    "ax = ax.reshape(-1)\n",
    "for i in range(16):\n",
    "    f = ax[i].imshow(best_eihogp_obj[i])\n",
    "    divider = make_axes_locatable(ax[i])\n",
    "    cax = divider.append_axes(\"right\", size=\"5%\", pad=0.05)\n",
    "\n",
    "    plt.colorbar(f,cax=cax, ax = ax[i])\n",
    "    \n",
    "plt.subplots_adjust(wspace=0.35)\n",
    "plt.savefig(\"./hogp_optics_eihogp_best.pdf\", bbox_inches=\"tight\")"
   ]
  },
  {
   "cell_type": "code",
   "execution_count": null,
   "metadata": {},
   "outputs": [],
   "source": [
    "fig, ax = plt.subplots(2, 8, figsize = (24, 6))\n",
    "ax = ax.reshape(-1)\n",
    "for i in range(16):\n",
    "    f = ax[i].imshow(worst_obj[i])\n",
    "    divider = make_axes_locatable(ax[i])\n",
    "    cax = divider.append_axes(\"right\", size=\"5%\", pad=0.05)\n",
    "\n",
    "    plt.colorbar(f,cax=cax, ax = ax[i])\n",
    "    \n",
    "plt.subplots_adjust(wspace=0.35)\n",
    "\n",
    "plt.savefig(\"./hogp_optics_random.pdf\", bbox_inches=\"tight\")"
   ]
  },
  {
   "cell_type": "code",
   "execution_count": null,
   "metadata": {},
   "outputs": [],
   "source": []
  }
 ],
 "metadata": {
  "kernelspec": {
   "display_name": "Python 3.7.4 64-bit ('base': conda)",
   "language": "python",
   "name": "python37464bitbaseconda52eab690427c4f7ea56588deee120c46"
  },
  "language_info": {
   "codemirror_mode": {
    "name": "ipython",
    "version": 3
   },
   "file_extension": ".py",
   "mimetype": "text/x-python",
   "name": "python",
   "nbconvert_exporter": "python",
   "pygments_lexer": "ipython3",
   "version": "3.7.9"
  }
 },
 "nbformat": 4,
 "nbformat_minor": 4
}
